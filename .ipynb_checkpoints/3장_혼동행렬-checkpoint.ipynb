{
 "cells": [
  {
   "cell_type": "code",
   "execution_count": 17,
   "id": "6488496b-4f09-4501-8f0a-739e42a2cb9c",
   "metadata": {},
   "outputs": [],
   "source": [
    "import pandas as pd\n",
    "from sklearn.model_selection import train_test_split\n",
    "from sklearn.metrics import accuracy_score\n",
    "import numpy as np\n",
    "from sklearn.datasets import load_digits\n",
    "from sklearn.base import BaseEstimator"
   ]
  },
  {
   "cell_type": "code",
   "execution_count": 18,
   "id": "c16a9079-778d-41d1-a253-dfd8542926db",
   "metadata": {},
   "outputs": [],
   "source": [
    "digits = load_digits()"
   ]
  },
  {
   "cell_type": "code",
   "execution_count": 19,
   "id": "64261e60-1e58-4975-9a91-1b55c58f5328",
   "metadata": {},
   "outputs": [
    {
     "data": {
      "text/plain": [
       "array([[ 0.,  0.,  5., 13.,  9.,  1.,  0.,  0.],\n",
       "       [ 0.,  0., 13., 15., 10., 15.,  5.,  0.],\n",
       "       [ 0.,  3., 15.,  2.,  0., 11.,  8.,  0.],\n",
       "       [ 0.,  4., 12.,  0.,  0.,  8.,  8.,  0.],\n",
       "       [ 0.,  5.,  8.,  0.,  0.,  9.,  8.,  0.],\n",
       "       [ 0.,  4., 11.,  0.,  1., 12.,  7.,  0.],\n",
       "       [ 0.,  2., 14.,  5., 10., 12.,  0.,  0.],\n",
       "       [ 0.,  0.,  6., 13., 10.,  0.,  0.,  0.]])"
      ]
     },
     "execution_count": 19,
     "metadata": {},
     "output_type": "execute_result"
    }
   ],
   "source": [
    "digits.data[0].reshape(8,8)"
   ]
  },
  {
   "cell_type": "code",
   "execution_count": 20,
   "id": "8241bfb6-952f-40a2-9ce7-8ad69068c1df",
   "metadata": {},
   "outputs": [],
   "source": [
    "class MyFakeClassifier(BaseEstimator):\n",
    "    def fit(self, X, y):\n",
    "        pass\n",
    "    def predict(self, X):\n",
    "        return np.zeros((len(X),1), dtype=bool)"
   ]
  },
  {
   "cell_type": "code",
   "execution_count": 21,
   "id": "3af16c96-8df5-44ec-90f1-e50b0b3a3f1d",
   "metadata": {},
   "outputs": [],
   "source": [
    "digits = load_digits()"
   ]
  },
  {
   "cell_type": "code",
   "execution_count": 22,
   "id": "1a2c73f3-60d5-4e50-bde4-6db56b463631",
   "metadata": {},
   "outputs": [],
   "source": [
    "y = (digits.target ==7).astype(int)\n",
    "X_train,X_test,y_train,y_test = train_test_split(digits.data,\n",
    "                                                 y,\n",
    "                                                 random_state = 11)"
   ]
  },
  {
   "cell_type": "code",
   "execution_count": 23,
   "id": "fa5c70d9-c4a3-425b-9645-ca298e9cc50a",
   "metadata": {},
   "outputs": [
    {
     "name": "stdout",
     "output_type": "stream",
     "text": [
      "레이블 테스트 세트 크기 : (450,)\n",
      "테스트 세트 레이블 0과 1의 분포도\n",
      "0    405\n",
      "1     45\n",
      "dtype: int64\n",
      "모든 예측을 0으로 하여도 정확도는:0.900\n"
     ]
    }
   ],
   "source": [
    "# 불균형한 레이블 데이터 분포도 확인\n",
    "print('레이블 테스트 세트 크기 :', y_test.shape)\n",
    "print('테스트 세트 레이블 0과 1의 분포도')\n",
    "print(pd.Series(y_test).value_counts())\n",
    "\n",
    "# Dummy Classifier로 학습/예측/정확도 평가\n",
    "fakeclf = MyFakeClassifier()\n",
    "fakeclf.fit(X_train, y_train)\n",
    "fakepred = fakeclf.predict(X_test)\n",
    "print('모든 예측을 0으로 하여도 정확도는:{:.3f}'.format(accuracy_score(y_test, fakepred)))"
   ]
  },
  {
   "cell_type": "code",
   "execution_count": 24,
   "id": "2741b6ce-9583-498f-b25a-7c760a629d46",
   "metadata": {},
   "outputs": [
    {
     "data": {
      "text/plain": [
       "array([[405,   0],\n",
       "       [ 45,   0]], dtype=int64)"
      ]
     },
     "execution_count": 24,
     "metadata": {},
     "output_type": "execute_result"
    }
   ],
   "source": [
    "from sklearn.metrics import confusion_matrix\n",
    "\n",
    "confusion_matrix(y_test, fakepred)"
   ]
  },
  {
   "cell_type": "code",
   "execution_count": 29,
   "id": "c3193036-2d8f-4504-9a22-90b9ec0833ee",
   "metadata": {},
   "outputs": [],
   "source": [
    "def get_clf_eval(y_test,pred):\n",
    "    from sklearn.metrics import accuracy_score,\\\n",
    "                                confusion_matrix,\\\n",
    "                                precision_score,\\\n",
    "                                recall_score\n",
    "    confusion = confusion_matrix(y_test, pred)\n",
    "    accuracy = accuracy_score(y_test, pred)\n",
    "    precision = precision_score(y_test, pred)\n",
    "    recall = recall_score(y_test, pred)\n",
    "    print('오차행렬')\n",
    "    print(confusion)\n",
    "    print(f'정확도:{accuracy:.4f}, 정밀도:{precision:.4f}, 재현율:{recall:.4f}')\n",
    "    \n",
    "def fillna(df):\n",
    "    df['Age'].fillna(df['Age'].mean(),inplace = True)\n",
    "    df['Cabin'].fillna('N', inplace=True)\n",
    "    df['Embarked'].fillna('N', inplace=True)\n",
    "    df['Fare'].fillna(0, inplace = True)\n",
    "    return df\n",
    "\n",
    "def drop_features(df):\n",
    "    df.drop(columns = ['PassengerId', 'Name', 'Ticket'], inplace=True)\n",
    "    return df\n",
    "\n",
    "def format_features(df):\n",
    "    from sklearn.preprocessing import LabelEncoder     # 필요한 import를 함수에 넣어주는 것도 좋다.\n",
    "    df['Cabin'] = df['Cabin'].str[0]\n",
    "    features = ['Cabin', 'Sex', 'Embarked']\n",
    "    for feature in features:\n",
    "        le = LabelEncoder()\n",
    "        df[feature] = le.fit_transform(df[feature])\n",
    "    return df\n",
    "\n",
    "def transform_features(df):         # 만들어진 함수를 차례대로 실행하는 함수.\n",
    "    df = fillna(df)\n",
    "    df = drop_features(df)\n",
    "    df = format_features(df)\n",
    "    return df"
   ]
  },
  {
   "cell_type": "code",
   "execution_count": 30,
   "id": "ffe8ab10-8278-4ad8-803e-c9ca8292ec8b",
   "metadata": {},
   "outputs": [],
   "source": [
    "import pandas as pd\n",
    "from sklearn.model_selection import train_test_split\n",
    "titanic_df = pd.read_csv('./titanic_train.csv')\n",
    "y_titanic_df = titanic_df['Survived']\n",
    "X_titanic_df = titanic_df.drop(columns=['Survived'])\n",
    "X_titanic_df = transform_features(X_titanic_df)\n",
    "X_train,X_test,y_train,y_test = train_test_split(X_titanic_df,\n",
    "                                                 y_titanic_df,\n",
    "                                                 test_size = 0.2,\n",
    "                                                 random_state = 11)"
   ]
  },
  {
   "cell_type": "code",
   "execution_count": 31,
   "id": "deeceeaa-f84c-4afa-87aa-bb10bedbca37",
   "metadata": {},
   "outputs": [],
   "source": [
    "from sklearn.linear_model import LogisticRegression"
   ]
  },
  {
   "cell_type": "code",
   "execution_count": 33,
   "id": "78bddbbc-2f5e-4940-a457-93a7d809df04",
   "metadata": {},
   "outputs": [
    {
     "name": "stdout",
     "output_type": "stream",
     "text": [
      "오차행렬\n",
      "[[108  10]\n",
      " [ 14  47]]\n",
      "정확도:0.8659, 정밀도:0.8246, 재현율:0.7705\n"
     ]
    }
   ],
   "source": [
    "lr_clf = LogisticRegression(solver='liblinear')\n",
    "lr_clf.fit(X_train,y_train)\n",
    "pred = lr_clf.predict(X_test)\n",
    "get_clf_eval(y_test, pred)"
   ]
  },
  {
   "cell_type": "code",
   "execution_count": null,
   "id": "9a8755b4-997d-4e9a-9b98-546de86ca54a",
   "metadata": {},
   "outputs": [],
   "source": []
  }
 ],
 "metadata": {
  "kernelspec": {
   "display_name": "Python 3 (ipykernel)",
   "language": "python",
   "name": "python3"
  },
  "language_info": {
   "codemirror_mode": {
    "name": "ipython",
    "version": 3
   },
   "file_extension": ".py",
   "mimetype": "text/x-python",
   "name": "python",
   "nbconvert_exporter": "python",
   "pygments_lexer": "ipython3",
   "version": "3.9.7"
  }
 },
 "nbformat": 4,
 "nbformat_minor": 5
}
